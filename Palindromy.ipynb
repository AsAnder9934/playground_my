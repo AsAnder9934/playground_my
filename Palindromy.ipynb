{
  "cells": [
    {
      "cell_type": "markdown",
      "metadata": {
        "id": "view-in-github",
        "colab_type": "text"
      },
      "source": [
        "<a href=\"https://colab.research.google.com/github/AsAnder9934/playground_my/blob/main/Palindromy.ipynb\" target=\"_parent\"><img src=\"https://colab.research.google.com/assets/colab-badge.svg\" alt=\"Open In Colab\"/></a>"
      ]
    },
    {
      "cell_type": "code",
      "execution_count": 26,
      "metadata": {
        "colab": {
          "base_uri": "https://localhost:8080/"
        },
        "id": "3HaHOoHKz20F",
        "outputId": "b82d0be4-0dca-462c-a80b-34cea208431c"
      },
      "outputs": [
        {
          "output_type": "stream",
          "name": "stdout",
          "text": [
            "pies nie jest palindromem\n",
            "ala jest palindromem\n",
            "kajak jest palindromem\n",
            "kamilślimak jest palindromem\n"
          ]
        }
      ],
      "source": [
        "words = ['pies', 'ala', 'kajak', 'kamilślimak']\n",
        "\n",
        "for x in words:\n",
        "    palindrom = x[::-1]        # [::-1] oznacza odwrócenie sekwencji\n",
        "\n",
        "    if x == palindrom:\n",
        "        print(f'{x} jest palindromem')\n",
        "    else:\n",
        "        print(f'{x} nie jest palindromem')\n",
        "\n"
      ]
    }
  ],
  "metadata": {
    "colab": {
      "provenance": [],
      "authorship_tag": "ABX9TyNPmIYpYevpgSmTJTYa6ZCp",
      "include_colab_link": true
    },
    "kernelspec": {
      "display_name": "Python 3",
      "name": "python3"
    },
    "language_info": {
      "name": "python"
    }
  },
  "nbformat": 4,
  "nbformat_minor": 0
}