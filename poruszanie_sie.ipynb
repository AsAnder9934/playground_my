{
  "nbformat": 4,
  "nbformat_minor": 0,
  "metadata": {
    "colab": {
      "provenance": [],
      "authorship_tag": "ABX9TyN4SkUp+twL1Z42Uc8v/Yel",
      "include_colab_link": true
    },
    "kernelspec": {
      "name": "python3",
      "display_name": "Python 3"
    },
    "language_info": {
      "name": "python"
    }
  },
  "cells": [
    {
      "cell_type": "markdown",
      "metadata": {
        "id": "view-in-github",
        "colab_type": "text"
      },
      "source": [
        "<a href=\"https://colab.research.google.com/github/AsAnder9934/playground_my/blob/main/poruszanie_sie.ipynb\" target=\"_parent\"><img src=\"https://colab.research.google.com/assets/colab-badge.svg\" alt=\"Open In Colab\"/></a>"
      ]
    },
    {
      "cell_type": "code",
      "execution_count": null,
      "metadata": {
        "id": "abjBtksmK03B"
      },
      "outputs": [],
      "source": [
        "from random import randint\n",
        "\n",
        "width=10\n",
        "height=10\n",
        "\n",
        "key_x=randint(0,height)\n",
        "key_y=randint(0,width)\n",
        "\n",
        "player_x=randint(0,width)\n",
        "player_y=randint(0,height)\n",
        "\n",
        "player_foud_key=False\n",
        "\n",
        "while not player_foud_key:\n",
        "  print(\"Poruszaj się za pomocą wsad by znaleźć klucz \")\n",
        "\n",
        "  move=input('Dokad idziesz? ')\n",
        "  match move:\n",
        "    case 'a':\n",
        "      player_y -= 1\n",
        "    case 'd':\n",
        "      player_y += 1\n",
        "    case 'w':\n",
        "      player_x += 1\n",
        "    case 's':\n",
        "      player_x -= 1\n",
        "\n",
        "  print(f'Twoja aktualna pozycja X= {player_x} Y= {player_y}')"
      ]
    }
  ]
}